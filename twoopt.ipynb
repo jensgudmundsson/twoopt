{
 "cells": [
  {
   "cell_type": "code",
   "execution_count": 283,
   "id": "b6bc64ee-2da5-415d-82d9-3ee17534aad4",
   "metadata": {},
   "outputs": [],
   "source": [
    "from math import sqrt\n",
    "from scipy.optimize import minimize\n",
    "from numpy.random import rand"
   ]
  },
  {
   "cell_type": "markdown",
   "id": "5ec58d0b-415c-401c-a679-2cdaa74cfd4e",
   "metadata": {},
   "source": [
    "## Probability parameters"
   ]
  },
  {
   "cell_type": "markdown",
   "id": "144f5d8c-2c16-43db-98ef-94543b461bd5",
   "metadata": {},
   "source": [
    "Set parameters for probability function using $p(x) = \\dfrac{x^a}{b + x^a}$ for $a \\in [0,1]$ and $b > 0$."
   ]
  },
  {
   "cell_type": "code",
   "execution_count": 284,
   "id": "eb12b707-85f8-46ca-b27d-a9c445246444",
   "metadata": {},
   "outputs": [],
   "source": [
    "a = 1/2\n",
    "b = 1/5"
   ]
  },
  {
   "cell_type": "markdown",
   "id": "dbb1bcb9-1264-40bd-a69f-c263ce57dc1d",
   "metadata": {},
   "source": [
    "Next line creates probability function and $g(x) = \\dfrac{p(x)}{p'(x)} = \\dfrac{x(x^a + b)}{ab}$"
   ]
  },
  {
   "cell_type": "code",
   "execution_count": 285,
   "id": "0c98f208-a7f3-43f4-8b09-f72eaed1ee5e",
   "metadata": {},
   "outputs": [],
   "source": [
    "assert a >= 0 and a <= 1, 'Set a in [0,1]'\n",
    "assert b > 0, 'Set b > 0'\n",
    "p = lambda x: x**a / (b + x**a)\n",
    "g = lambda x: x * (x**a + b) / (a * b)"
   ]
  },
  {
   "cell_type": "markdown",
   "id": "b7da83e6-6c03-4859-81c8-276cf5d75ec6",
   "metadata": {},
   "source": [
    "## Initiator-optimal alpha-rule"
   ]
  },
  {
   "cell_type": "markdown",
   "id": "923ee634-5647-4fb0-802e-082f701696ad",
   "metadata": {},
   "source": [
    "Consider first the problem of finding the initiator-optimal alpha-rule. Specifically, each agent $i > 0$ will invest $x_i = c$ such that $p(c) \\alpha = g(c)$. The initiator's expected payoff is\n",
    "$$\n",
    "(1 - p(x_0)) \\cdot 1 + p(x_0) (1 - p(c)) \\cdot 2 + p(x_0) p(c) (1 - p(c)) (2 + 1 - \\alpha) + p(x_0) p^2(c) (1 - p(c)) (2 + 2(1 - \\alpha)) + \\dots - x_0\n",
    "$$\n",
    "This simplifies to \n",
    "$$\n",
    "(1 - p(x_0)) + 2 p(x_0) (1 - p(c)) (1 + p(c) + p^2(c) + \\dots) + p(x_0) p(c) (1 - p(c)) (1 - \\alpha) (1 + 2p(c) + 3p^2(c) + \\dots) - x_0,\n",
    "$$\n",
    "which becomes\n",
    "$$\n",
    "1 - p(x_0) + 2 p(x_0) + \\dfrac{p(x_0) p(c) (1 - \\alpha)}{1 - p(c)} - x_0.\n",
    "$$\n",
    "Simplifying further,\n",
    "$$\n",
    "1 + p(x_0) \\left(1 + \\dfrac{p(c) (1 - \\alpha)}{1 - p(c)} \\right) - x_0.\n",
    "$$\n",
    "which is\n",
    "$$\n",
    "1 + p(x_0) \\left(\\dfrac{1 - p(c) + p(c) - p(c) \\alpha}{1 - p(c)} \\right) - x_0,\n",
    "$$\n",
    "so\n",
    "$$\n",
    "1 + p(x_0) \\left(\\dfrac{1 - p(c) \\alpha}{1 - p(c)} \\right) - x_0.\n",
    "$$\n",
    "We incorporate the FOC for agents $i > 0$, namely $p(c) \\alpha = g(c)$, and maximize the resulting expression with respect to $x_0$ and $c$:\n",
    "$$\n",
    "1 + p(x_0) \\left( \\dfrac{1 - g(c)}{1 - p(c)} \\right ) - x_0.\n",
    "$$\n",
    "In particular, x[0] is $x_0$ while x[1] is $c$.\n",
    "Instead of maximizing the function, we minimize the negative function.\n",
    "We add also an initial guess x0 and non-negativity bounds."
   ]
  },
  {
   "cell_type": "code",
   "execution_count": 286,
   "id": "4b04d2dd-62bc-46f7-b834-f75fac9e81e0",
   "metadata": {},
   "outputs": [
    {
     "name": "stdout",
     "output_type": "stream",
     "text": [
      "      fun: -1.9620455579400082\n",
      " hess_inv: <2x2 LbfgsInvHessProduct with dtype=float64>\n",
      "      jac: array([6.1284311e-06, 8.4865448e-05])\n",
      "  message: 'CONVERGENCE: REL_REDUCTION_OF_F_<=_FACTR*EPSMCH'\n",
      "     nfev: 42\n",
      "      nit: 11\n",
      "     njev: 14\n",
      "   status: 0\n",
      "  success: True\n",
      "        x: array([0.18248815, 0.04153322])\n",
      "-------------------------------------------------------------------------\n",
      "Init. investment x0:\t 0.1824881483715041\n",
      "Other investment c:\t 0.04153321776256865\n",
      "Init. prob. p(x0):\t 0.681115491561614\n",
      "Other prob. p(c):\t 0.5047016215392468\n",
      "Alpha:\t\t\t 0.3322951239611897\n"
     ]
    }
   ],
   "source": [
    "initFun = lambda x: - (1 + p(x[0]) * (1 - g(x[1])) / (1 - p(x[1])) - x[0])\n",
    "x0 = [1, 1]\n",
    "bnds = [(0, None), (0, None)]\n",
    "f = minimize(fun = initFun, x0 = x0, bounds = bnds)\n",
    "# f.x is the solution, namely the investments [x0, c]\n",
    "# f.fun is the (negative) function value at the optimum\n",
    "c = f.x[1]\n",
    "alpha = g(c) / p(c)\n",
    "\n",
    "print(f)\n",
    "print('-------------------------------------------------------------------------')\n",
    "print('Init. investment x0:\\t', f.x[0])\n",
    "print('Other investment c:\\t', c)\n",
    "print('Init. prob. p(x0):\\t', p(f.x[0]))\n",
    "print('Other prob. p(c):\\t', p(c))\n",
    "print('Alpha:\\t\\t\\t', alpha)"
   ]
  },
  {
   "cell_type": "markdown",
   "id": "55fbbf44-ea3a-4900-b0a1-21bb0c19bd6a",
   "metadata": {},
   "source": [
    "## Two-optimality with alpha-rule"
   ]
  },
  {
   "cell_type": "markdown",
   "id": "cf924c08-8fc4-4c18-b89f-5b0333c4f617",
   "metadata": {},
   "source": [
    "Assume now that the rule starts\n",
    "\\begin{align*}\n",
    "& (1), \\\\\n",
    "& (2, 0), \\\\\n",
    "& (A, B, 3-A-B), \\\\\n",
    "& (C, D, 4-C-D, 0), \\\\\n",
    "& (C, D, 4-C-D + 1-\\alpha, \\alpha, 0), \\\\\n",
    "& (C, D, 4-C-D + 2(1-\\alpha), \\alpha, \\alpha, 0), \\\\\n",
    "& \\dots\n",
    "\\end{align*}\n",
    "where $\\alpha$ is as for the initiator-optimal alpha-rule above.\n",
    "Therefore, we will have $x_3 = x_4 = \\dots = c$ as above."
   ]
  },
  {
   "cell_type": "markdown",
   "id": "141fc437-3286-4e1c-8e02-16184bf09255",
   "metadata": {},
   "source": [
    "### Agent 0's FOC"
   ]
  },
  {
   "cell_type": "markdown",
   "id": "a1e58a28-3cc9-4feb-a0b8-c7f2ab4b61db",
   "metadata": {},
   "source": [
    "For agent $0$, the expected return if successful $R_0$ is\n",
    "\\begin{align*}\n",
    "R_0 &= (1 - p(x_1)) \\cdot 2 + p(x_1) (1 - p(x_2)) \\cdot A + p(x_1) p(x_2) (1 + p(c) + p^2(c) + \\dots) (1 - p(c)) \\cdot C \\\\\n",
    "&= (1 - p(x_1)) \\cdot 2 + p(x_1) (1 - p(x_2)) \\cdot A + p(x_1) p(x_2) \\cdot C \\\\\n",
    "&= 2 - 2p(x_1) + A p(x_1) - A p(x_1) p(x_2) + C p(x_1) p(x_2) \\\\\n",
    "&= 2 + (A - 2) p(x_1) + (C - A) p(x_1) p(x_2).\n",
    "\\end{align*}"
   ]
  },
  {
   "cell_type": "markdown",
   "id": "525a86e2-6d61-4e8d-b7aa-b60dd2594f9e",
   "metadata": {},
   "source": [
    "Agent $0$'s FOC is $p(x_0) (R_0 - 1) = g(x_0)$, so\n",
    "$$\n",
    "1 + (A-2) p(x_1) + (C - A) p(x_1) p(x_2) = \\frac{g(x_0)}{p(x_0)}.\n",
    "$$"
   ]
  },
  {
   "cell_type": "markdown",
   "id": "0a858900-a28f-477c-b983-a3e491a69968",
   "metadata": {},
   "source": [
    "### Agent 1's FOC"
   ]
  },
  {
   "cell_type": "markdown",
   "id": "d16272b9-570f-470d-9d4a-eb3e44a5e7c0",
   "metadata": {},
   "source": [
    "For agent $1$, the expected return if successful $R_1$ is\n",
    "\\begin{align*}\n",
    "R_1 &= (1 - p(x_2)) \\cdot B + p(x_2) (1 + p(c) + p^2(c) + \\dots) (1 - p(c)) \\cdot D \\\\\n",
    "&= (1 - p(x_2)) \\cdot B + p(x_2) \\cdot D \\\\\n",
    "&= B + (D - B) p(x_2)\n",
    "\\end{align*}"
   ]
  },
  {
   "cell_type": "markdown",
   "id": "59f67350-ddf9-4230-b4a4-7ecc52d907cb",
   "metadata": {},
   "source": [
    "Agent $1$'s FOC is $p(x_1) (R_1 - 0) = g(x_1)$, so\n",
    "$$\n",
    "B + (D - B) p(x_2) = \\frac{g(x_1)}{p(x_1)}.\n",
    "$$"
   ]
  },
  {
   "cell_type": "markdown",
   "id": "56bbc23e-a696-4bde-9e1d-2e14a8e12698",
   "metadata": {},
   "source": [
    "### Agent 2's expected payoff"
   ]
  },
  {
   "cell_type": "markdown",
   "id": "601f7a74-aab9-41e2-af53-45e3efb6a675",
   "metadata": {},
   "source": [
    "Finally, we turn to agent $2$'s expected payoff:\n",
    "$$\n",
    "p(x_0) p(x_1) (1 - p(x_2)) (3 - A - B) + p(x_0) p(x_1) p(x_2) (1 + p(c) + p^2(c) + \\dots) (1 - p(c)) (4 - C - D) + p(x_0) p(x_1) p(x_2) (p(c) + 2p^2(c) + \\dots) (1 - p(c)) (1 - \\alpha) - p(x_0) p(x_1) x_2\n",
    "$$\n",
    "This simplifies to\n",
    "$$\n",
    "p(x_0) p(x_1) (1 - p(x_2)) (3 - A - B) + p(x_0) p(x_1) p(x_2) (4 - C - D) + \\dfrac{p(x_0) p(x_1) p(x_2) p(c) (1 - \\alpha)}{1 - p(c)} - p(x_0) p(x_1) x_2\n",
    "$$\n",
    "Rearranging,\n",
    "$$\n",
    "p(x_0) p(x_1) (3 - A - B - x_2) + p(x_0) p(x_1) p(x_2) (1 + A + B - C - D) + \\dfrac{p(x_0) p(x_1) p(x_2) p(c) (1 - \\alpha)}{1 - p(c)}\n",
    "$$\n",
    "Define $Z = \\dfrac{p(c) (1 - \\alpha)}{1 - p(c)}$.\n",
    "Note that this only depends on the already computed values.\n",
    "Then\n",
    "$$\n",
    "p(x_0) p(x_1) (3 - A - B - x_2) + p(x_0) p(x_1) p(x_2) (1 + A + B - C - D + Z).\n",
    "$$"
   ]
  },
  {
   "cell_type": "code",
   "execution_count": 287,
   "id": "608e7aac-9c2b-4e4c-a617-7496901f972a",
   "metadata": {},
   "outputs": [
    {
     "name": "stdout",
     "output_type": "stream",
     "text": [
      "0.6803812576445818\n"
     ]
    }
   ],
   "source": [
    "Z = p(c) * (1 - alpha) / (1 - p(c))\n",
    "print(Z)"
   ]
  },
  {
   "cell_type": "markdown",
   "id": "e27e1fc4-50d7-46fa-abba-1d2b5531bd4b",
   "metadata": {},
   "source": [
    "### Constrained optimization problem "
   ]
  },
  {
   "cell_type": "markdown",
   "id": "46c66f3c-ad48-45de-86dc-54c9a3ac06e6",
   "metadata": {},
   "source": [
    "We will choose $x_0$, $x_1$, $x_2$, $A$, $B$, $C$, and $D$ to maximize agent $2$'s expected payoff.\n",
    "The list x = [$x_0, x_1, x_2, A, B, C, D$] will represent the solution.\n",
    "Hence, x[3] refers to the payoff $A$.\n",
    "Again, we minimize the negative function and impose non-negativity bounds."
   ]
  },
  {
   "cell_type": "code",
   "execution_count": 288,
   "id": "c1fdc2bc-b6a0-4203-ad3d-e00abb512d93",
   "metadata": {},
   "outputs": [],
   "source": [
    "fun = lambda x: - (p(x[0]) * p(x[1]) * (3 - x[3] - x[4] - x[2]) + p(x[0]) * p(x[1]) * p(x[2]) * (1 + x[3] + x[4] - x[5] - x[6] + Z))\n",
    "x0 = [1, 1, 1, 1, 1, 1, 1]\n",
    "bnds = [(0, None), (0, None), (0, None), (0, None), (0, None), (0, None), (0, None)]"
   ]
  },
  {
   "cell_type": "markdown",
   "id": "b40371db-d9d4-47b2-a749-749e5cb83e43",
   "metadata": {},
   "source": [
    "Next, we add constraints. First, $A + B \\leq 3$ and $C + D \\leq 4$. We indicate that it's an inequality and then the function that should be non-negative. Hence, the middle row captures $3 - A - B >= 0$."
   ]
  },
  {
   "cell_type": "code",
   "execution_count": 289,
   "id": "acbbcd6d-f9d4-4578-880d-791a7c089454",
   "metadata": {},
   "outputs": [],
   "source": [
    "cons = []\n",
    "cons.append({'type': 'ineq', 'fun': lambda x: 3 - x[3] - x[4]})\n",
    "cons.append({'type': 'ineq', 'fun': lambda x: 4 - x[5] - x[6]})"
   ]
  },
  {
   "cell_type": "markdown",
   "id": "33c9a169-5281-430c-8536-5928e5fccf5f",
   "metadata": {},
   "source": [
    "Next, we turn to the equilibrium constraints. We compute the FOCs for agents $0$ and $1$ above.\n",
    "For these equality constraints, we provide the function that should equal zero.\n",
    "\\begin{align*}\n",
    "1 + (A-2) p(x_1) + (C - A) p(x_1) p(x_2) &= \\frac{g(x_0)}{p(x_0)} \\\\\n",
    "B + (D - B) p(x_2) &= \\frac{g(x_1)}{p(x_1)}.\n",
    "\\end{align*}\n"
   ]
  },
  {
   "cell_type": "code",
   "execution_count": 290,
   "id": "b0561aa6-f01c-423f-8813-049cfe1116f5",
   "metadata": {},
   "outputs": [],
   "source": [
    "cons.append({'type': 'eq', 'fun': lambda x: 1 + (x[3] - 2) * p(x[1]) + (x[5] - x[3]) * p(x[1]) * p(x[2]) - g(x[0]) / p(x[0])})\n",
    "cons.append({'type': 'eq', 'fun': lambda x: x[4] + (x[6] - x[4]) * p(x[2]) - g(x[1]) / p(x[1])})"
   ]
  },
  {
   "cell_type": "code",
   "execution_count": 291,
   "id": "b325846a-e585-4248-b199-1e6c0d0789b2",
   "metadata": {},
   "outputs": [
    {
     "name": "stdout",
     "output_type": "stream",
     "text": [
      "     fun: -0.7537757561089674\n",
      "     jac: array([-4.15311622, -3.88114308, -0.10488512,  0.08483554,  0.08483554,\n",
      "        0.18134051,  0.18134051])\n",
      " message: 'Optimization terminated successfully'\n",
      "    nfev: 128\n",
      "     nit: 15\n",
      "    njev: 15\n",
      "  status: 0\n",
      " success: True\n",
      "       x: array([0.04423322, 0.04668002, 0.1827654 , 0.91698802, 0.66716836,\n",
      "       0.68094744, 0.23684555])\n",
      "-------------------------------------------------------------------------\n",
      "Init. investment x0:\t 0.044233219289761795\n",
      "Investment x1:\t\t 0.04668002342879334\n",
      "Investment x2:\t\t 0.18276540338870984\n",
      "Investment c:\t\t 0.04153321776256865\n",
      "Init. prob. p(x0):\t 0.512571927154983\n",
      "Prob. p(x1):\t\t 0.5192950203418613\n",
      "Prob. p(x2):\t\t 0.6812803379761472\n",
      "Prob. p(c):\t\t 0.5047016215392468\n",
      "A:\t\t\t 0.9169880182822858\n",
      "B:\t\t\t 0.6671683560981805\n",
      "C:\t\t\t 0.6809474417263375\n",
      "D:\t\t\t 0.23684555459582704\n"
     ]
    }
   ],
   "source": [
    "f = minimize(fun = fun, x0 = x0, bounds = bnds, constraints = cons)\n",
    "# f.x is the solution, namely [x0, x1, x2, A, B, C, D]\n",
    "# f.fun is the (negative) function value at the optimum\n",
    "print(f)\n",
    "print('-------------------------------------------------------------------------')\n",
    "print('Init. investment x0:\\t', f.x[0])\n",
    "print('Investment x1:\\t\\t', f.x[1])\n",
    "print('Investment x2:\\t\\t', f.x[2])\n",
    "print('Investment c:\\t\\t', c)\n",
    "print('Init. prob. p(x0):\\t', p(f.x[0]))\n",
    "print('Prob. p(x1):\\t\\t', p(f.x[1]))\n",
    "print('Prob. p(x2):\\t\\t', p(f.x[2]))\n",
    "print('Prob. p(c):\\t\\t', p(c))\n",
    "print('A:\\t\\t\\t',f.x[3])\n",
    "print('B:\\t\\t\\t',f.x[4])\n",
    "print('C:\\t\\t\\t',f.x[5])\n",
    "print('D:\\t\\t\\t',f.x[6])"
   ]
  },
  {
   "cell_type": "markdown",
   "id": "e8bd781d-2dd4-4a7a-8904-e8b3ecc3b9df",
   "metadata": {},
   "source": [
    "## Further constrained problem"
   ]
  },
  {
   "cell_type": "markdown",
   "id": "8ea2721f-308b-4bda-8594-5340f2325a99",
   "metadata": {},
   "source": [
    "The optimization problem may have multiple solutions.\n",
    "If there is one with $C = D = 0$, then that solution is also a solution to the problem in which we maximize agent $2$'s expected payoff minus $C$ and $D$.\n",
    "Hence, we can compare the optimal function values: if there is no difference, then this suggests that there exists a solution with $C = D = 0$.\n",
    "(Again, due to minimizing, we add $C$ and $D$ instead.)"
   ]
  },
  {
   "cell_type": "code",
   "execution_count": 292,
   "id": "858a86ff-5ce3-479b-8d4c-e4d8ec4c6b67",
   "metadata": {},
   "outputs": [],
   "source": [
    "consFun = lambda x: fun(x) + x[5] + x[6]"
   ]
  },
  {
   "cell_type": "code",
   "execution_count": 293,
   "id": "ddab98ee-351a-4c9c-b8a2-0bce723e956d",
   "metadata": {},
   "outputs": [
    {
     "name": "stdout",
     "output_type": "stream",
     "text": [
      "     fun: -0.7514667953967952\n",
      "     jac: array([-4.47079536, -4.46051801, -0.61203262,  0.08611748,  0.08611748,\n",
      "        1.16894639,  1.16894638])\n",
      " message: 'Optimization terminated successfully'\n",
      "    nfev: 215\n",
      "     nit: 25\n",
      "    njev: 25\n",
      "  status: 0\n",
      " success: True\n",
      "       x: array([4.16070667e-02, 4.16835874e-02, 1.53948362e-01, 2.01222282e+00,\n",
      "       9.87777182e-01, 3.03603978e-16, 3.51963365e-16])\n",
      "-------------------------------------------------------------------------\n",
      "Init. investment x0:\t 0.041607066734487906\n",
      "Investment x1:\t\t 0.04168358738235656\n",
      "Investment x2:\t\t 0.1539483624560772\n",
      "Investment c:\t\t 0.04153321776256865\n",
      "Init. prob. p(x0):\t 0.5049236623608333\n",
      "Prob. p(x1):\t\t 0.5051533186726063\n",
      "Prob. p(x2):\t\t 0.66236892672867\n",
      "Prob. p(c):\t\t 0.5047016215392468\n",
      "A:\t\t\t 2.0122228178041235\n",
      "B:\t\t\t 0.9877771821958801\n",
      "C:\t\t\t 3.036039780480494e-16\n",
      "D:\t\t\t 3.5196336540784315e-16\n"
     ]
    }
   ],
   "source": [
    "g = minimize(fun = consFun, x0 = x0, bounds = bnds, constraints = cons)\n",
    "# f.x is the solution, namely [x0, x1, x2, A, B, C, D]\n",
    "# f.fun is the (negative) function value at the optimum\n",
    "print(g)\n",
    "print('-------------------------------------------------------------------------')\n",
    "print('Init. investment x0:\\t', g.x[0])\n",
    "print('Investment x1:\\t\\t', g.x[1])\n",
    "print('Investment x2:\\t\\t', g.x[2])\n",
    "print('Investment c:\\t\\t', c)\n",
    "print('Init. prob. p(x0):\\t', p(g.x[0]))\n",
    "print('Prob. p(x1):\\t\\t', p(g.x[1]))\n",
    "print('Prob. p(x2):\\t\\t', p(g.x[2]))\n",
    "print('Prob. p(c):\\t\\t', p(c))\n",
    "print('A:\\t\\t\\t',g.x[3])\n",
    "print('B:\\t\\t\\t',g.x[4])\n",
    "print('C:\\t\\t\\t',g.x[5])\n",
    "print('D:\\t\\t\\t',g.x[6])"
   ]
  },
  {
   "cell_type": "markdown",
   "id": "2ca2bedb-f339-49ee-85e1-079b7427a026",
   "metadata": {},
   "source": [
    "The important comparison is then the following:"
   ]
  },
  {
   "cell_type": "code",
   "execution_count": 294,
   "id": "7c6a68bf-b158-47e0-82e3-de62e9671579",
   "metadata": {},
   "outputs": [
    {
     "name": "stdout",
     "output_type": "stream",
     "text": [
      "Unconstrained:\t -0.7537757561089674\n",
      "Constrained:\t -0.7514667953967952\n",
      "\n",
      "Constraints DO affect optimal value, so there may NOT exist a solution with C = D = 0\n"
     ]
    }
   ],
   "source": [
    "print('Unconstrained:\\t', f.fun)\n",
    "print('Constrained:\\t', g.fun)\n",
    "print()\n",
    "if (f.fun < g.fun + 1e-3 and f.fun > g.fun - 1e-3): print(\"Constraints don't affect optimal value, so there is a solution with C = D = 0\")\n",
    "else: print(\"Constraints DO affect optimal value, so there may NOT exist a solution with C = D = 0\")"
   ]
  },
  {
   "cell_type": "code",
   "execution_count": null,
   "id": "ddc351aa-64be-469c-8d29-6171b550dd58",
   "metadata": {},
   "outputs": [],
   "source": []
  }
 ],
 "metadata": {
  "kernelspec": {
   "display_name": "Python 3 (ipykernel)",
   "language": "python",
   "name": "python3"
  },
  "language_info": {
   "codemirror_mode": {
    "name": "ipython",
    "version": 3
   },
   "file_extension": ".py",
   "mimetype": "text/x-python",
   "name": "python",
   "nbconvert_exporter": "python",
   "pygments_lexer": "ipython3",
   "version": "3.9.7"
  }
 },
 "nbformat": 4,
 "nbformat_minor": 5
}
