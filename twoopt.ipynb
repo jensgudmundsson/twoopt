{
 "cells": [
  {
   "cell_type": "code",
   "execution_count": 1,
   "id": "b6bc64ee-2da5-415d-82d9-3ee17534aad4",
   "metadata": {},
   "outputs": [],
   "source": [
    "from math import sqrt\n",
    "from scipy.optimize import minimize\n",
    "from numpy.random import rand\n",
    "import numpy as np\n",
    "import matplotlib.pyplot as plt"
   ]
  },
  {
   "cell_type": "markdown",
   "id": "5ec58d0b-415c-401c-a679-2cdaa74cfd4e",
   "metadata": {},
   "source": [
    "## Probability parameters"
   ]
  },
  {
   "cell_type": "markdown",
   "id": "144f5d8c-2c16-43db-98ef-94543b461bd5",
   "metadata": {},
   "source": [
    "Set parameters for probability function using $p(x) = \\dfrac{x^a}{b + x^a}$ for $a \\in [0,1]$ and $b > 0$."
   ]
  },
  {
   "cell_type": "code",
   "execution_count": 2,
   "id": "eb12b707-85f8-46ca-b27d-a9c445246444",
   "metadata": {},
   "outputs": [
    {
     "name": "stdout",
     "output_type": "stream",
     "text": [
      "a: 0.13 b: 0.21\n"
     ]
    }
   ],
   "source": [
    "a = round(100 * rand()) / 100\n",
    "b = round(100 * rand()) / 100\n",
    "print('a:', a,\n",
    "      'b:', b)"
   ]
  },
  {
   "cell_type": "markdown",
   "id": "dbb1bcb9-1264-40bd-a69f-c263ce57dc1d",
   "metadata": {},
   "source": [
    "Next line creates probability function and $g(x) = \\dfrac{p(x)}{p'(x)} = \\dfrac{x(x^a + b)}{ab}$"
   ]
  },
  {
   "cell_type": "code",
   "execution_count": 3,
   "id": "0c98f208-a7f3-43f4-8b09-f72eaed1ee5e",
   "metadata": {},
   "outputs": [],
   "source": [
    "assert a >= 0 and a <= 1, 'Set a in [0,1]'\n",
    "assert b > 0, 'Set b > 0'\n",
    "p = lambda x: x**a / (b + x**a)\n",
    "q = lambda x: x**(1/2) / (1/4 + x**(1/2))\n",
    "g = lambda x: x * (x**a + b) / (a * b)"
   ]
  },
  {
   "cell_type": "code",
   "execution_count": 4,
   "id": "5d8e42d6-5c67-4439-9c5f-f87cd436f28f",
   "metadata": {},
   "outputs": [
    {
     "data": {
      "text/plain": [
       "<matplotlib.legend.Legend at 0x11c06cac0>"
      ]
     },
     "execution_count": 4,
     "metadata": {},
     "output_type": "execute_result"
    },
    {
     "data": {
      "image/png": "[encoded data removed]",
      "text/plain": [
       "<Figure size 640x480 with 1 Axes>"
      ]
     },
     "metadata": {},
     "output_type": "display_data"
    }
   ],
   "source": [
    "X = np.arange(0,1,.01)\n",
    "Y = np.array([p(x) for x in X])\n",
    "Yorig = np.array([q(x) for x in X])\n",
    "plt.plot(X,Y)\n",
    "plt.plot(X,Yorig)\n",
    "plt.legend(['New, a = ' + str(a)[:4] + ' and b = ' + str(b),'Original, a = 0.5 and b = 0.25'])"
   ]
  },
  {
   "cell_type": "markdown",
   "id": "b7da83e6-6c03-4859-81c8-276cf5d75ec6",
   "metadata": {},
   "source": [
    "## Initiator-optimal alpha-rule"
   ]
  },
  {
   "cell_type": "markdown",
   "id": "923ee634-5647-4fb0-802e-082f701696ad",
   "metadata": {},
   "source": [
    "Consider first the problem of finding the initiator-optimal alpha-rule. Specifically, each agent $i > 0$ will invest $x_i = c$ such that $p(c) \\alpha = g(c)$. The initiator's expected payoff is\n",
    "$$\n",
    "(1 - p(x_0)) \\cdot 1 + p(x_0) (1 - p(c)) \\cdot 2 + p(x_0) p(c) (1 - p(c)) (2 + 1 - \\alpha) + p(x_0) p^2(c) (1 - p(c)) (2 + 2(1 - \\alpha)) + \\dots - x_0\n",
    "$$\n",
    "This simplifies to \n",
    "$$\n",
    "(1 - p(x_0)) + 2 p(x_0) (1 - p(c)) (1 + p(c) + p^2(c) + \\dots) + p(x_0) p(c) (1 - p(c)) (1 - \\alpha) (1 + 2p(c) + 3p^2(c) + \\dots) - x_0,\n",
    "$$\n",
    "which becomes\n",
    "$$\n",
    "1 - p(x_0) + 2 p(x_0) + \\dfrac{p(x_0) p(c) (1 - \\alpha)}{1 - p(c)} - x_0.\n",
    "$$\n",
    "Simplifying further,\n",
    "$$\n",
    "1 + p(x_0) \\left(1 + \\dfrac{p(c) (1 - \\alpha)}{1 - p(c)} \\right) - x_0.\n",
    "$$\n",
    "which is\n",
    "$$\n",
    "1 + p(x_0) \\left(\\dfrac{1 - p(c) + p(c) - p(c) \\alpha}{1 - p(c)} \\right) - x_0,\n",
    "$$\n",
    "so\n",
    "$$\n",
    "1 + p(x_0) \\left(\\dfrac{1 - p(c) \\alpha}{1 - p(c)} \\right) - x_0.\n",
    "$$\n",
    "We incorporate the FOC for agents $i > 0$, namely $p(c) \\alpha = g(c)$, and maximize the resulting expression with respect to $x_0$ and $c$:\n",
    "$$\n",
    "1 + p(x_0) \\left( \\dfrac{1 - g(c)}{1 - p(c)} \\right ) - x_0.\n",
    "$$\n",
    "In particular, x[0] is $x_0$ while x[1] is $c$.\n",
    "Instead of maximizing the function, we minimize the negative function.\n",
    "We add also an initial guess x0 and non-negativity bounds."
   ]
  },
  {
   "cell_type": "code",
   "execution_count": 5,
   "id": "4b04d2dd-62bc-46f7-b834-f75fac9e81e0",
   "metadata": {},
   "outputs": [
    {
     "name": "stdout",
     "output_type": "stream",
     "text": [
      "      fun: -3.240337437828229\n",
      " hess_inv: <2x2 LbfgsInvHessProduct with dtype=float64>\n",
      "      jac: array([1.16795462e-05, 6.60227428e-04])\n",
      "  message: 'CONVERGENCE: REL_REDUCTION_OF_F_<=_FACTR*EPSMCH'\n",
      "     nfev: 90\n",
      "      nit: 18\n",
      "     njev: 30\n",
      "   status: 0\n",
      "  success: True\n",
      "        x: array([0.06881043, 0.00305496])\n",
      "-------------------------------------------------------------------------\n",
      "Init. investment x0:\t 0.06881043367060796\n",
      "Other investment c:\t 0.0030549621659848973\n",
      "Init. prob. p(x0):\t 0.7707791190922817\n",
      "Other prob. p(c):\t 0.6916446155790631\n",
      "Alpha:\t\t\t 0.11018638808819649\n"
     ]
    }
   ],
   "source": [
    "initFun = lambda x: - (1 + p(x[0]) * (1 - g(x[1])) / (1 - p(x[1])) - x[0])\n",
    "x0 = [1, 1]\n",
    "bnds = [(0, None), (0, None)]\n",
    "f = minimize(fun = initFun, x0 = x0, bounds = bnds)\n",
    "# f.x is the solution, namely the investments [x0, c]\n",
    "# f.fun is the (negative) function value at the optimum\n",
    "c = f.x[1]\n",
    "alpha = g(c) / p(c)\n",
    "\n",
    "print(f)\n",
    "print('-------------------------------------------------------------------------')\n",
    "print('Init. investment x0:\\t', f.x[0])\n",
    "print('Other investment c:\\t', c)\n",
    "print('Init. prob. p(x0):\\t', p(f.x[0]))\n",
    "print('Other prob. p(c):\\t', p(c))\n",
    "print('Alpha:\\t\\t\\t', alpha)"
   ]
  },
  {
   "cell_type": "markdown",
   "id": "55fbbf44-ea3a-4900-b0a1-21bb0c19bd6a",
   "metadata": {},
   "source": [
    "## Two-optimality with alpha-rule"
   ]
  },
  {
   "cell_type": "markdown",
   "id": "cf924c08-8fc4-4c18-b89f-5b0333c4f617",
   "metadata": {},
   "source": [
    "Assume now that the rule starts\n",
    "\\begin{align*}\n",
    "& (1), \\\\\n",
    "& (2, 0), \\\\\n",
    "& (A, B, 3-A-B), \\\\\n",
    "& (C, D, 4-C-D, 0), \\\\\n",
    "& (C, D, 4-C-D + 1-\\alpha, \\alpha, 0), \\\\\n",
    "& (C, D, 4-C-D + 2(1-\\alpha), \\alpha, \\alpha, 0), \\\\\n",
    "& \\dots\n",
    "\\end{align*}\n",
    "where $\\alpha$ is as for the initiator-optimal alpha-rule above.\n",
    "Therefore, we will have $x_3 = x_4 = \\dots = c$ as above."
   ]
  },
  {
   "cell_type": "markdown",
   "id": "141fc437-3286-4e1c-8e02-16184bf09255",
   "metadata": {},
   "source": [
    "### Agent 0's FOC"
   ]
  },
  {
   "cell_type": "markdown",
   "id": "a1e58a28-3cc9-4feb-a0b8-c7f2ab4b61db",
   "metadata": {},
   "source": [
    "For agent $0$, the expected return if successful $R_0$ is\n",
    "\\begin{align*}\n",
    "R_0 &= (1 - p(x_1)) \\cdot 2 + p(x_1) (1 - p(x_2)) \\cdot A + p(x_1) p(x_2) (1 + p(c) + p^2(c) + \\dots) (1 - p(c)) \\cdot C \\\\\n",
    "&= (1 - p(x_1)) \\cdot 2 + p(x_1) (1 - p(x_2)) \\cdot A + p(x_1) p(x_2) \\cdot C \\\\\n",
    "&= 2 - 2p(x_1) + A p(x_1) - A p(x_1) p(x_2) + C p(x_1) p(x_2) \\\\\n",
    "&= 2 + (A - 2) p(x_1) + (C - A) p(x_1) p(x_2).\n",
    "\\end{align*}"
   ]
  },
  {
   "cell_type": "markdown",
   "id": "525a86e2-6d61-4e8d-b7aa-b60dd2594f9e",
   "metadata": {},
   "source": [
    "Agent $0$'s FOC is $p(x_0) (R_0 - 1) = g(x_0)$, so\n",
    "$$\n",
    "1 + (A-2) p(x_1) + (C - A) p(x_1) p(x_2) = \\frac{g(x_0)}{p(x_0)}.\n",
    "$$"
   ]
  },
  {
   "cell_type": "markdown",
   "id": "0a858900-a28f-477c-b983-a3e491a69968",
   "metadata": {},
   "source": [
    "### Agent 1's FOC"
   ]
  },
  {
   "cell_type": "markdown",
   "id": "d16272b9-570f-470d-9d4a-eb3e44a5e7c0",
   "metadata": {},
   "source": [
    "For agent $1$, the expected return if successful $R_1$ is\n",
    "\\begin{align*}\n",
    "R_1 &= (1 - p(x_2)) \\cdot B + p(x_2) (1 + p(c) + p^2(c) + \\dots) (1 - p(c)) \\cdot D \\\\\n",
    "&= (1 - p(x_2)) \\cdot B + p(x_2) \\cdot D \\\\\n",
    "&= B + (D - B) p(x_2)\n",
    "\\end{align*}"
   ]
  },
  {
   "cell_type": "markdown",
   "id": "59f67350-ddf9-4230-b4a4-7ecc52d907cb",
   "metadata": {},
   "source": [
    "Agent $1$'s FOC is $p(x_1) (R_1 - 0) = g(x_1)$, so\n",
    "$$\n",
    "B + (D - B) p(x_2) = \\frac{g(x_1)}{p(x_1)}.\n",
    "$$"
   ]
  },
  {
   "cell_type": "markdown",
   "id": "56bbc23e-a696-4bde-9e1d-2e14a8e12698",
   "metadata": {},
   "source": [
    "### Agent 2's expected payoff"
   ]
  },
  {
   "cell_type": "markdown",
   "id": "601f7a74-aab9-41e2-af53-45e3efb6a675",
   "metadata": {},
   "source": [
    "Finally, we turn to agent $2$'s expected payoff:\n",
    "$$\n",
    "p(x_0) p(x_1) (1 - p(x_2)) (3 - A - B) + p(x_0) p(x_1) p(x_2) (1 + p(c) + p^2(c) + \\dots) (1 - p(c)) (4 - C - D) + p(x_0) p(x_1) p(x_2) (p(c) + 2p^2(c) + \\dots) (1 - p(c)) (1 - \\alpha) - p(x_0) p(x_1) x_2\n",
    "$$\n",
    "This simplifies to\n",
    "$$\n",
    "p(x_0) p(x_1) (1 - p(x_2)) (3 - A - B) + p(x_0) p(x_1) p(x_2) (4 - C - D) + \\dfrac{p(x_0) p(x_1) p(x_2) p(c) (1 - \\alpha)}{1 - p(c)} - p(x_0) p(x_1) x_2\n",
    "$$\n",
    "Rearranging,\n",
    "$$\n",
    "p(x_0) p(x_1) (3 - A - B - x_2) + p(x_0) p(x_1) p(x_2) (1 + A + B - C - D) + \\dfrac{p(x_0) p(x_1) p(x_2) p(c) (1 - \\alpha)}{1 - p(c)}\n",
    "$$\n",
    "Define $Z = \\dfrac{p(c) (1 - \\alpha)}{1 - p(c)}$.\n",
    "Note that this only depends on the already computed values.\n",
    "Then\n",
    "$$\n",
    "p(x_0) p(x_1) (3 - A - B - x_2) + p(x_0) p(x_1) p(x_2) (1 + A + B - C - D + Z).\n",
    "$$"
   ]
  },
  {
   "cell_type": "code",
   "execution_count": 6,
   "id": "608e7aac-9c2b-4e4c-a617-7496901f972a",
   "metadata": {},
   "outputs": [
    {
     "name": "stdout",
     "output_type": "stream",
     "text": [
      "1.9958619976864909\n"
     ]
    }
   ],
   "source": [
    "Z = p(c) * (1 - alpha) / (1 - p(c))\n",
    "print(Z)"
   ]
  },
  {
   "cell_type": "markdown",
   "id": "e27e1fc4-50d7-46fa-abba-1d2b5531bd4b",
   "metadata": {},
   "source": [
    "### Constrained optimization problem "
   ]
  },
  {
   "cell_type": "markdown",
   "id": "46c66f3c-ad48-45de-86dc-54c9a3ac06e6",
   "metadata": {},
   "source": [
    "We will choose $x_0$, $x_1$, $x_2$, $A$, $B$, $C$, and $D$ to maximize agent $2$'s expected payoff.\n",
    "The list x = [$x_0, x_1, x_2, A, B, C, D$] will represent the solution.\n",
    "Hence, x[3] refers to the payoff $A$.\n",
    "Again, we minimize the negative function and impose non-negativity bounds."
   ]
  },
  {
   "cell_type": "code",
   "execution_count": 7,
   "id": "c1fdc2bc-b6a0-4203-ad3d-e00abb512d93",
   "metadata": {},
   "outputs": [],
   "source": [
    "fun = lambda x: - (p(x[0]) * p(x[1]) * (3 - x[3] - x[4] - x[2]) + p(x[0]) * p(x[1]) * p(x[2]) * (1 + x[3] + x[4] - x[5] - x[6] + Z))\n",
    "x0 = [1, 1, 1, 1, 1, 1, 1]\n",
    "bnds = [(0, None), (0, None), (0, None), (0, None), (0, None), (0, None), (0, None)]"
   ]
  },
  {
   "cell_type": "markdown",
   "id": "b40371db-d9d4-47b2-a749-749e5cb83e43",
   "metadata": {},
   "source": [
    "Next, we add constraints. First, $A + B \\leq 3$ and $C + D \\leq 4$. We indicate that it's an inequality and then the function that should be non-negative. Hence, the middle row captures $3 - A - B >= 0$."
   ]
  },
  {
   "cell_type": "code",
   "execution_count": 8,
   "id": "acbbcd6d-f9d4-4578-880d-791a7c089454",
   "metadata": {},
   "outputs": [],
   "source": [
    "cons = []\n",
    "cons.append({'type': 'ineq', 'fun': lambda x: 3 - x[3] - x[4]})\n",
    "cons.append({'type': 'ineq', 'fun': lambda x: 4 - x[5] - x[6]})"
   ]
  },
  {
   "cell_type": "markdown",
   "id": "33c9a169-5281-430c-8536-5928e5fccf5f",
   "metadata": {},
   "source": [
    "Next, we turn to the equilibrium constraints. We compute the FOCs for agents $0$ and $1$ above.\n",
    "For these equality constraints, we provide the function that should equal zero.\n",
    "\\begin{align*}\n",
    "1 + (A-2) p(x_1) + (C - A) p(x_1) p(x_2) &= \\frac{g(x_0)}{p(x_0)} \\\\\n",
    "B + (D - B) p(x_2) &= \\frac{g(x_1)}{p(x_1)}.\n",
    "\\end{align*}\n"
   ]
  },
  {
   "cell_type": "code",
   "execution_count": 9,
   "id": "b0561aa6-f01c-423f-8813-049cfe1116f5",
   "metadata": {},
   "outputs": [],
   "source": [
    "cons.append({'type': 'eq', 'fun': lambda x: 1 + (x[3] - 2) * p(x[1]) + (x[5] - x[3]) * p(x[1]) * p(x[2]) - g(x[0]) / p(x[0])})\n",
    "cons.append({'type': 'eq', 'fun': lambda x: x[4] + (x[6] - x[4]) * p(x[2]) - g(x[1]) / p(x[1])})"
   ]
  },
  {
   "cell_type": "code",
   "execution_count": 10,
   "id": "b325846a-e585-4248-b199-1e6c0d0789b2",
   "metadata": {},
   "outputs": [
    {
     "name": "stdout",
     "output_type": "stream",
     "text": [
      "     fun: -2.1130887187004537\n",
      "     jac: array([-26.31551179, -25.73510632,  -0.04772648,   0.11016712,\n",
      "         0.11016712,   0.37043527,   0.37043527])\n",
      " message: 'Optimization terminated successfully'\n",
      "    nfev: 236\n",
      "     nit: 27\n",
      "    njev: 27\n",
      "  status: 0\n",
      " success: True\n",
      "       x: array([0.00320498, 0.00327123, 0.06879167, 0.94941747, 0.12276763,\n",
      "       0.65851211, 0.11708999])\n",
      "-------------------------------------------------------------------------\n",
      "Init. investment x0:\t 0.0032049844633225562\n",
      "Investment x1:\t\t 0.0032712297603978645\n",
      "Investment x2:\t\t 0.06879167228696166\n",
      "Investment c:\t\t 0.0030549621659848973\n",
      "Init. prob. p(x0):\t 0.6929721825193473\n",
      "Prob. p(x1):\t\t 0.6935377608663251\n",
      "Prob. p(x2):\t\t 0.7707728558181394\n",
      "Prob. p(c):\t\t 0.6916446155790631\n",
      "A:\t\t\t 0.9494174706409692\n",
      "B:\t\t\t 0.12276763129491693\n",
      "C:\t\t\t 0.6585121079026218\n",
      "D:\t\t\t 0.11708998824235271\n"
     ]
    },
    {
     "name": "stderr",
     "output_type": "stream",
     "text": [
      "/var/folders/fy/tqrt4js16sb__tbx7f8rk589vv_z38/T/ipykernel_23261/1305883556.py:1: RuntimeWarning: invalid value encountered in double_scalars\n",
      "  cons.append({'type': 'eq', 'fun': lambda x: 1 + (x[3] - 2) * p(x[1]) + (x[5] - x[3]) * p(x[1]) * p(x[2]) - g(x[0]) / p(x[0])})\n"
     ]
    }
   ],
   "source": [
    "f = minimize(fun = fun, x0 = x0, bounds = bnds, constraints = cons)\n",
    "# f.x is the solution, namely [x0, x1, x2, A, B, C, D]\n",
    "# f.fun is the (negative) function value at the optimum\n",
    "print(f)\n",
    "print('-------------------------------------------------------------------------')\n",
    "print('Init. investment x0:\\t', f.x[0])\n",
    "print('Investment x1:\\t\\t', f.x[1])\n",
    "print('Investment x2:\\t\\t', f.x[2])\n",
    "print('Investment c:\\t\\t', c)\n",
    "print('Init. prob. p(x0):\\t', p(f.x[0]))\n",
    "print('Prob. p(x1):\\t\\t', p(f.x[1]))\n",
    "print('Prob. p(x2):\\t\\t', p(f.x[2]))\n",
    "print('Prob. p(c):\\t\\t', p(c))\n",
    "print('A:\\t\\t\\t',f.x[3])\n",
    "print('B:\\t\\t\\t',f.x[4])\n",
    "print('C:\\t\\t\\t',f.x[5])\n",
    "print('D:\\t\\t\\t',f.x[6])"
   ]
  },
  {
   "cell_type": "markdown",
   "id": "e8bd781d-2dd4-4a7a-8904-e8b3ecc3b9df",
   "metadata": {},
   "source": [
    "## Further constrained problem"
   ]
  },
  {
   "cell_type": "markdown",
   "id": "8ea2721f-308b-4bda-8594-5340f2325a99",
   "metadata": {},
   "source": [
    "The optimization problem may have multiple solutions.\n",
    "If there is one with $C = D = 0$, then that solution is also a solution to the problem in which we maximize agent $2$'s expected payoff minus $C$ and $D$.\n",
    "Hence, we can compare the optimal function values: if there is no difference, then this suggests that there exists a solution with $C = D = 0$.\n",
    "(Again, due to minimizing, we add $C$ and $D$ instead.)\n",
    "However, it may also be the case that $x_0$ and $x_1$ are large enough to require $C, D > 0$.\n",
    "But when this is the case, we want $A + B = 3$, that is, agent $2$ should not receive a positive self-transfer.\n",
    "In this way, we add $(3 - A - B) \\cdot (C + D)$ to the objective function that we are minimizing."
   ]
  },
  {
   "cell_type": "code",
   "execution_count": 11,
   "id": "858a86ff-5ce3-479b-8d4c-e4d8ec4c6b67",
   "metadata": {},
   "outputs": [],
   "source": [
    "consFun = lambda x: fun(x) + (3 - x[3] - x[4]) * (x[5] + x[6])"
   ]
  },
  {
   "cell_type": "code",
   "execution_count": 12,
   "id": "ddab98ee-351a-4c9c-b8a2-0bce723e956d",
   "metadata": {},
   "outputs": [
    {
     "name": "stdout",
     "output_type": "stream",
     "text": [
      "     fun: -2.1130886641703652\n",
      "     jac: array([-26.32924023, -25.76303297,  -0.44598606,  -0.09207022,\n",
      "        -0.09207022,   0.3704477 ,   0.3704477 ])\n",
      " message: 'Optimization terminated successfully'\n",
      "    nfev: 316\n",
      "     nit: 36\n",
      "    njev: 36\n",
      "  status: 0\n",
      " success: True\n",
      "       x: array([0.00320484, 0.00327201, 0.06883371, 2.67566701, 0.32433299,\n",
      "       0.14517889, 0.05718828])\n",
      "-------------------------------------------------------------------------\n",
      "Init. investment x0:\t 0.0032048423366262033\n",
      "Investment x1:\t\t 0.003272014123616274\n",
      "Investment x2:\t\t 0.0688337086987339\n",
      "Investment c:\t\t 0.0030549621659848973\n",
      "Init. prob. p(x0):\t 0.692970955936959\n",
      "Prob. p(x1):\t\t 0.693544385195797\n",
      "Prob. p(x2):\t\t 0.7707868866552084\n",
      "Prob. p(c):\t\t 0.6916446155790631\n",
      "A:\t\t\t 2.675667010598761\n",
      "B:\t\t\t 0.3243329894012395\n",
      "C:\t\t\t 0.14517888791933817\n",
      "D:\t\t\t 0.05718827556101409\n"
     ]
    },
    {
     "name": "stderr",
     "output_type": "stream",
     "text": [
      "/var/folders/fy/tqrt4js16sb__tbx7f8rk589vv_z38/T/ipykernel_23261/1305883556.py:1: RuntimeWarning: invalid value encountered in double_scalars\n",
      "  cons.append({'type': 'eq', 'fun': lambda x: 1 + (x[3] - 2) * p(x[1]) + (x[5] - x[3]) * p(x[1]) * p(x[2]) - g(x[0]) / p(x[0])})\n"
     ]
    }
   ],
   "source": [
    "g = minimize(fun = consFun, x0 = x0, bounds = bnds, constraints = cons)\n",
    "# f.x is the solution, namely [x0, x1, x2, A, B, C, D]\n",
    "# f.fun is the (negative) function value at the optimum\n",
    "print(g)\n",
    "print('-------------------------------------------------------------------------')\n",
    "print('Init. investment x0:\\t', g.x[0])\n",
    "print('Investment x1:\\t\\t', g.x[1])\n",
    "print('Investment x2:\\t\\t', g.x[2])\n",
    "print('Investment c:\\t\\t', c)\n",
    "print('Init. prob. p(x0):\\t', p(g.x[0]))\n",
    "print('Prob. p(x1):\\t\\t', p(g.x[1]))\n",
    "print('Prob. p(x2):\\t\\t', p(g.x[2]))\n",
    "print('Prob. p(c):\\t\\t', p(c))\n",
    "print('A:\\t\\t\\t',g.x[3])\n",
    "print('B:\\t\\t\\t',g.x[4])\n",
    "print('C:\\t\\t\\t',g.x[5])\n",
    "print('D:\\t\\t\\t',g.x[6])"
   ]
  },
  {
   "cell_type": "markdown",
   "id": "2ca2bedb-f339-49ee-85e1-079b7427a026",
   "metadata": {},
   "source": [
    "The important comparison is then the following:"
   ]
  },
  {
   "cell_type": "code",
   "execution_count": 13,
   "id": "7c6a68bf-b158-47e0-82e3-de62e9671579",
   "metadata": {},
   "outputs": [
    {
     "name": "stdout",
     "output_type": "stream",
     "text": [
      "Unconstrained:\t -2.1130887187004537\n",
      "Constrained:\t -2.1130886641703652\n",
      "\n",
      "Constraints don't affect optimal value, there is no self-transfer\n"
     ]
    }
   ],
   "source": [
    "print('Unconstrained:\\t', f.fun)\n",
    "print('Constrained:\\t', g.fun)\n",
    "print()\n",
    "if (f.fun < g.fun + 1e-3 and f.fun > g.fun - 1e-3): \n",
    "    if (g.x[3] + g.x[4] > 3 - 1e-6):\n",
    "        print(\"Constraints don't affect optimal value, there is no self-transfer\")\n",
    "    if (g.x[5] + g.x[6] < 1e-6):\n",
    "        print(\"Constraints don't affect optimal value, values can be set to zero\")\n",
    "    \n",
    "else: print(\"Constraints DO affect optimal value\")"
   ]
  }
 ],
 "metadata": {
  "kernelspec": {
   "display_name": "Python 3 (ipykernel)",
   "language": "python",
   "name": "python3"
  },
  "language_info": {
   "codemirror_mode": {
    "name": "ipython",
    "version": 3
   },
   "file_extension": ".py",
   "mimetype": "text/x-python",
   "name": "python",
   "nbconvert_exporter": "python",
   "pygments_lexer": "ipython3",
   "version": "3.9.7"
  }
 },
 "nbformat": 4,
 "nbformat_minor": 5
}
